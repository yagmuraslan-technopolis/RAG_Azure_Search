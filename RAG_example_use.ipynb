{
 "cells": [
  {
   "cell_type": "code",
   "execution_count": null,
   "id": "43d61d0d",
   "metadata": {},
   "outputs": [],
   "source": [
    "from dotenv import load_dotenv\n",
    "import os\n",
    "from pathlib import Path"
   ]
  },
  {
   "cell_type": "code",
   "execution_count": null,
   "id": "09345164",
   "metadata": {},
   "outputs": [],
   "source": [
    "load_dotenv()"
   ]
  },
  {
   "cell_type": "code",
   "execution_count": null,
   "id": "3e5cab09",
   "metadata": {},
   "outputs": [],
   "source": [
    "folder_path = os.environ.get(\"FOLDER_PATH\")\n",
    "files = [str(p) for p in sorted(Path(folder_path).iterdir()) if p.is_file()] if folder_path else []"
   ]
  },
  {
   "cell_type": "code",
   "execution_count": null,
   "id": "e9beeccb",
   "metadata": {},
   "outputs": [],
   "source": [
    "from rag import RAGBackEnd\n",
    "\n",
    "rag = RAGBackEnd(\"your_user_name\")\n",
    "rag.document_index_pipeline(files)"
   ]
  },
  {
   "cell_type": "code",
   "execution_count": null,
   "id": "e2312c13",
   "metadata": {},
   "outputs": [],
   "source": [
    "answer = rag.query_rag(\n",
    "    question = \"Insert your query here\",\n",
    "    selected_files='Insert the names of selected files as a string or as a list'\n",
    ")\n",
    "\n",
    "print(answer)"
   ]
  },
  {
   "cell_type": "code",
   "execution_count": null,
   "id": "8ff08117",
   "metadata": {},
   "outputs": [],
   "source": [
    "\"\"\" #### RECOMMENDED ##### \\n\n",
    "Delete all storage artifacts if you're not going to use the same collection of documents soon\n",
    "This helps us avoiding spending extra costs to store your documents in a blob container \n",
    "or the embeddings in a vectorstore. \n",
    "\"\"\"\n",
    "\n",
    "rag.logout_delete_storage_pipeline()"
   ]
  },
  {
   "cell_type": "code",
   "execution_count": null,
   "id": "eaf82aa1",
   "metadata": {},
   "outputs": [],
   "source": []
  }
 ],
 "metadata": {
  "kernelspec": {
   "display_name": "venv",
   "language": "python",
   "name": "python3"
  },
  "language_info": {
   "codemirror_mode": {
    "name": "ipython",
    "version": 3
   },
   "file_extension": ".py",
   "mimetype": "text/x-python",
   "name": "python",
   "nbconvert_exporter": "python",
   "pygments_lexer": "ipython3",
   "version": "3.13.5"
  }
 },
 "nbformat": 4,
 "nbformat_minor": 5
}
